{
 "cells": [
  {
   "cell_type": "code",
   "execution_count": null,
   "metadata": {
    "id": "_G5-Hj2-_9EX"
   },
   "outputs": [],
   "source": [
    "!pip install -qU langchain-google-genai langchain-core langgraph langchain-community"
   ]
  },
  {
   "cell_type": "code",
   "execution_count": null,
   "metadata": {
    "id": "wDKSotHwlD-r"
   },
   "outputs": [],
   "source": [
    "import os\n",
    "\n",
    "os.environ[\"LANGCHAIN_TRACING_V2\"] = \"true\"\n",
    "os.environ[\"LANGCHAIN_ENDPOINT\"] = \"https://api.smith.langchain.com\"\n",
    "os.environ[\"LANGCHAIN_API_KEY\"] = \"<your-api-key>\""
   ]
  },
  {
   "cell_type": "code",
   "execution_count": null,
   "metadata": {
    "id": "x_xhNwYMlUzg"
   },
   "outputs": [],
   "source": [
    "api_key = \"\""
   ]
  },
  {
   "cell_type": "code",
   "execution_count": null,
   "metadata": {
    "id": "XPhEmQ-4_xxy"
   },
   "outputs": [],
   "source": [
    "import getpass\n",
    "\n",
    "if not os.environ.get(\"GOOGLE_API_KEY\"):\n",
    "  os.environ[\"GOOGLE_API_KEY\"] = getpass.getpass(\"Enter API key for Google Gemini: \")\n"
   ]
  },
  {
   "cell_type": "code",
   "execution_count": null,
   "metadata": {
    "id": "h2lfTJ3OADZz"
   },
   "outputs": [],
   "source": [
    "from langchain_google_genai import GoogleGenerativeAIEmbeddings\n",
    "\n",
    "embeddings = GoogleGenerativeAIEmbeddings(model=\"models/embedding-001\")"
   ]
  },
  {
   "cell_type": "code",
   "execution_count": null,
   "metadata": {
    "id": "oRQrJ2qAAZS3"
   },
   "outputs": [],
   "source": [
    "from langchain_core.vectorstores import InMemoryVectorStore\n",
    "\n",
    "vector_store = InMemoryVectorStore(embeddings)"
   ]
  },
  {
   "cell_type": "code",
   "execution_count": null,
   "metadata": {
    "colab": {
     "base_uri": "https://localhost:8080/"
    },
    "id": "nWEr5szBlaiT",
    "outputId": "dcd8eceb-3328-4aa9-fa85-feb761b60493"
   },
   "outputs": [],
   "source": [
    "from langchain_community.document_loaders import TextLoader\n",
    "from langchain_community.vectorstores import FAISS\n",
    "from langchain_text_splitters import RecursiveCharacterTextSplitter\n",
    "\n",
    "loader = TextLoader(\"/content/Tagore10.txt\")\n",
    "\n",
    "data = loader.load()\n",
    "from langchain.text_splitter import RecursiveCharacterTextSplitter\n",
    "\n",
    "text_splitterr = RecursiveCharacterTextSplitter(\n",
    "    chunk_size=100,\n",
    "    chunk_overlap=20,\n",
    "    separators=[\"।\"],  # Prioritize paragraph breaks\n",
    "    add_start_index=True\n",
    ")\n",
    "texts = text_splitterr.split_documents(data)\n",
    "len(texts), texts[200:203]"
   ]
  },
  {
   "cell_type": "code",
   "execution_count": null,
   "metadata": {
    "colab": {
     "base_uri": "https://localhost:8080/",
     "height": 337,
     "referenced_widgets": [
      "48dfeddf752346f994a1da2ffa41112e",
      "cd4c0bbbee3e4322a14d587358af8a46",
      "9746d1bf2b5d42c19a9758b246050e21",
      "214c127ece4b45ef954bb1bd83a01124",
      "10990cfcaa9040fb8ff89f7dd1c68559",
      "5cec8d0f774249dab467100928fb1603",
      "379c308dbca242d09f1e89f1be6840cf",
      "289bf51fd8c6461fbee103e6c2871354",
      "504fd7240b4c4b8189850626b22df053",
      "190ba12ad36a4a3f8e0f0b9eb084b49b",
      "61c5e445949b42ff9268a48df8363536",
      "61215e74b8df490e93ea9092f594d211",
      "fdcbd5e02c284bd2b252a93350e14c0f",
      "18850d0b242249f3a1d5f0d41ec57a1f",
      "5f2ec3cad1cf423595d146f01ba2eb6c",
      "82307e99294440fab22672f880869991",
      "75c47417fab84bde80de5f198bdb4c1a",
      "5a3c99d605b44f1f899f967d230b64d0",
      "25bcea2437f54bfaae698fbdc8f9ecf8",
      "a352a3456d814fbfbbed7bcd60c9ecd6",
      "3806d1bbb88340ad8dd2f395c1e27553",
      "9c6aacc0aa0047ae859ac75d3a65a63a",
      "5ab2476132094b1eafa63adc5e76447c",
      "2380b1bdc1d046cd8fa5acba661f940b",
      "2b12f04e8e67445aa5d6db713e5cfc8a",
      "ca188ec14bc6433c835580cb8f3b6930",
      "acc3d5a77a3a481187b5fdb2806430aa",
      "b6bdefa7aef7466d90dc880a718c222a",
      "95a4061ea3834d29a9f1a4331861008a",
      "5a1106356f924e9286cb979ac2cbb1b8",
      "0816ee4b2eb6460fbb278d788fe069b0",
      "0580062251ab4c738a09bde8d72b8bb1",
      "7fbe532e859f4e47b825e5088fff5825",
      "815ee7b6aaac4ae7a551d2b60371603d",
      "a668ab1736ca43fe98b6ef6a12cfe4df",
      "976eccdfe4344e22afb966f2e423b061",
      "1aef2afe6f154a9fac2846d81adcd983",
      "20aabdec26bd48d897ca76cbf5c382a5",
      "7a895d45fe53407daf4225a53ccae57a",
      "8ee891adb5fc4bc48ef7a8b2b037d290",
      "8ef1b19b47ab40fab1713aed35917d8d",
      "b8f18094e7f24c74a46aeab62201d8cf",
      "912f2463e8fb40a2beea4d1319782e25",
      "0a5e4b6d212846cb9a481958aa4b91c6",
      "6aa58a3b8479420a9fcf5cb7afbbb668",
      "efb8d6ceeb6d444f8d1575fb4c680d99",
      "c03e0680f6d2470aa3c9746e16742f19",
      "bb93820883a44720a3a4681b03e880fe",
      "11e7e4c46a26466abf5a4a1d44581cb7",
      "397ae65502444246819575fc8232de29",
      "7b1fa9f332c34565be9015a55e2d71c8",
      "d1874c38ebc14aac8c1b6cd66d64d76e",
      "331e775e49b844c1ba7cd5b3a5847038",
      "6fb84a9fd8384a50bdd765886914003c",
      "a8fa0f7b27a24074813016ce358677b5",
      "008fcb1b893e412c80ebea704fc56e22",
      "4ad6dc29a48a4de5aeb73a00b5296d25",
      "3abfdc68b7af4ec5ac0f064a6e79a28f",
      "59d474dd693b46ef99cc84633bed5368",
      "32d862be25ac497bbef17f75dd72b311",
      "6eef4b772ac448df853da2e37e9064c7",
      "8e546a2d57c84b068f750c0266636e74",
      "7157d73d619e4b049bec903a8281e809",
      "d9af239cd3dd4d189fada3848b06fba0",
      "5c9a4c6b4308440a9ce3a20a744f65a5",
      "e954e2336e904f479e7162a874a067a9",
      "502e85210d164f8dadf705ca07dbde52",
      "ed87fc3fe486419db420ccbe300f7f01",
      "91f5c1245e1146fda2847289f5a5a518",
      "2621a01021bb4f6cb65ea0b13ca3d5c0",
      "ef293d02631b46cf8adc5988fea96ec5",
      "76b4cd3303a3488299b0d112b009d967",
      "f507b805c86e4253931c5bb7e75fb5d1",
      "771e2bd1cfde4c9eb63fbee348af0878",
      "90b34372090547c18333e736867af42d",
      "ff778d9b36084d1088309fbb9f56d546",
      "66cb9f81ed284e22b00cefb5b769204f",
      "7bf9126667924126ac7ad550bf3efe75",
      "34efca0a27394ed3a6f98e1a120ac597",
      "4d107cc32d7742e084299edfe4ffdbbf",
      "e5babbda44244f4cbb89ef7047733b7a",
      "ac5523fe6f7b49a695906b939c2c3812",
      "fffd534c9d674b349840ac2103914d97",
      "dfbb19bc0af4430588b7385557fea6c0",
      "9be8e56996324a3bbad3b91134485d78",
      "d264dc011f44420198f5d3a9b58b4e89",
      "f08ba9933577419a80457bb9edb1ed77",
      "8ff56a9f24bb4c778d7d46069e140898",
      "6d7c268ef6154ebd89dd8a9a25348df6",
      "5be574eefc8f40b890d8a3f25927febc",
      "ecac0c7d25c2487d90a4530e4a4d1fd9",
      "a94cf06d60174c3a933d2c4f30cec849",
      "80e9a256e9424ced8a9d76acf660b24f",
      "53d9dad408414e4a918107db5930c99f",
      "0d977a52730849489692c6cde4d2d7f4",
      "37b4d966d0f54800a5b6c6c85c2fb85c",
      "fe49dff512f3421a9b16a6473c9825f4",
      "88dfae56e0684a078653e5364d22fcd9",
      "550cd7b695994a0eaeb95fb4d0bd9092",
      "3179e6863a0541fd919b64a051b189ae",
      "2ff5e44521974350b7f974885292bc95",
      "1b330b4863354326a6f92bd9db08c547",
      "f1047a7d36e64dcc9c2b2cea545fca1c",
      "cbfbd6f97d2945099b1b6496883d7a49",
      "6599d0e7fe4b473f9b23316b4e808bf2",
      "61b2080f544d420f988a19d2fc1978ca",
      "4d2af7ce50004c8da09f746d3284ce21",
      "a029d252cf0447489bafe14020475418",
      "fa625715a1ff4bcc96b17055b156dd90",
      "4fbafefd79124da591f15854eda2e53b"
     ]
    },
    "id": "kPjDORtxmeUd",
    "outputId": "31982c8d-2a8c-4a2e-b23c-a842fa6324f6"
   },
   "outputs": [],
   "source": [
    "from langchain_huggingface import HuggingFaceEmbeddings\n",
    "\n",
    "model_name = \"intfloat/multilingual-e5-small\"\n",
    "model_kwargs = {'device': 'cpu'}\n",
    "encode_kwargs = {'normalize_embeddings': True}\n",
    "hf = HuggingFaceEmbeddings(\n",
    "    model_name=model_name,\n",
    "    model_kwargs=model_kwargs,\n",
    "    encode_kwargs=encode_kwargs\n",
    ")"
   ]
  },
  {
   "cell_type": "code",
   "execution_count": null,
   "metadata": {
    "id": "rZrDcT7AuWno"
   },
   "outputs": [],
   "source": [
    "from langchain_google_genai import GoogleGenerativeAIEmbeddings\n",
    "\n",
    "embeddings = GoogleGenerativeAIEmbeddings(model=\"models/gemini-embedding-exp-03-07\")"
   ]
  },
  {
   "cell_type": "code",
   "execution_count": null,
   "metadata": {
    "id": "iGBVIRaPmeiM"
   },
   "outputs": [],
   "source": [
    "from langchain_experimental.text_splitter import SemanticChunker\n",
    "\n",
    "text_splitters = SemanticChunker(hf, breakpoint_threshold_type = 'gradient', number_of_chunks = 1000,\n",
    "                                 )"
   ]
  },
  {
   "cell_type": "code",
   "execution_count": null,
   "metadata": {
    "id": "hlLGJVgfmesM"
   },
   "outputs": [],
   "source": [
    "# This is a long document we can split up.\n",
    "with open(\"/Tagore10.txt\") as f:\n",
    "    tagore = f.read()\n"
   ]
  },
  {
   "cell_type": "code",
   "execution_count": null,
   "metadata": {
    "id": "RsPyjZOlm0eF"
   },
   "outputs": [],
   "source": [
    "docs = text_splitters.create_documents([tagore])\n"
   ]
  },
  {
   "cell_type": "code",
   "execution_count": null,
   "metadata": {
    "colab": {
     "base_uri": "https://localhost:8080/"
    },
    "id": "-teOrWSMvV71",
    "outputId": "6faf8811-2010-41f9-de59-8267c7454d2a"
   },
   "outputs": [],
   "source": [
    "len(docs) , texts[:3]"
   ]
  },
  {
   "cell_type": "code",
   "execution_count": null,
   "metadata": {
    "id": "XRVHzR-ou4ih"
   },
   "outputs": [],
   "source": [
    "vectorstorer = FAISS.from_documents(texts, hf)\n"
   ]
  },
  {
   "cell_type": "code",
   "execution_count": null,
   "metadata": {
    "id": "kgZUpxavm0og"
   },
   "outputs": [],
   "source": [
    "vectorstores = FAISS.from_documents(docs, hf)\n"
   ]
  },
  {
   "cell_type": "code",
   "execution_count": null,
   "metadata": {
    "id": "bjFD-sNrm0uP"
   },
   "outputs": [],
   "source": [
    "retriever = vectorstorer.as_retriever(search_kwargs={\"k\": 10})\n"
   ]
  },
  {
   "cell_type": "markdown",
   "metadata": {
    "id": "2PhUBNxf4_YI"
   },
   "source": []
  },
  {
   "cell_type": "code",
   "execution_count": null,
   "metadata": {
    "colab": {
     "base_uri": "https://localhost:8080/"
    },
    "id": "bNabFUY2m06y",
    "outputId": "a366398d-f16c-469e-b9ed-e1420d66ec65"
   },
   "outputs": [],
   "source": [
    "docs = retriever.invoke(\"ভারতের পশ্চিম অঞ্চলকে কী বলে?\")\n",
    "for doc in docs:\n",
    "    print(doc.page_content)\n",
    "    print(\"-------------\")"
   ]
  },
  {
   "cell_type": "code",
   "execution_count": null,
   "metadata": {
    "colab": {
     "base_uri": "https://localhost:8080/"
    },
    "id": "Y9GvxUGNujqv",
    "outputId": "ead95239-a40d-4860-ea35-149e19fc41d9"
   },
   "outputs": [],
   "source": [
    "prompt = \"\"\"You are an assistant for question-answering tasks. Use the following pieces of retrieved context to answer the question in 1 or 2 words.\n",
    "Context: {context}\n",
    "Answer:\n",
    "\"\"\"\n",
    "\n",
    "\n",
    "from langchain_core.prompts import ChatPromptTemplate\n",
    "\n",
    "template = ChatPromptTemplate([\n",
    "    (\"human\", prompt),\n",
    "])\n",
    "template"
   ]
  },
  {
   "cell_type": "code",
   "execution_count": null,
   "metadata": {
    "id": "e14FzsvlNAwv"
   },
   "outputs": [],
   "source": [
    "from langchain_google_genai import ChatGoogleGenerativeAI, HarmBlockThreshold, HarmCategory"
   ]
  },
  {
   "cell_type": "code",
   "execution_count": null,
   "metadata": {
    "colab": {
     "base_uri": "https://localhost:8080/"
    },
    "id": "MJ2JK8Ogujwe",
    "outputId": "84f8c446-7d51-4ec6-b586-b3f8891f7089"
   },
   "outputs": [],
   "source": [
    "### Generate\n",
    "\n",
    "from langchain import hub\n",
    "from langchain_core.output_parsers import StrOutputParser\n",
    "from langchain_google_genai import ChatGoogleGenerativeAI\n",
    "from langchain_core.prompts import ChatPromptTemplate\n",
    "from google.generativeai.types import HarmCategory, HarmBlockThreshold\n",
    "\n",
    "\n",
    "# Prompt\n",
    "# prompt = hub.pull(\"rlm/rag-prompt\")\n",
    "\n",
    "# LLM\n",
    "llm = ChatGoogleGenerativeAI(\n",
    "    model=\"gemini-1.5-flash\",\n",
    "    temperature=0,\n",
    "    max_output_tokens=100,\n",
    "    stream=True,\n",
    "    google_api_key=api_key,\n",
    "    safety_settings={\n",
    "        HarmCategory.HARM_CATEGORY_HATE_SPEECH: HarmBlockThreshold.BLOCK_LOW_AND_ABOVE,\n",
    "        HarmCategory.HARM_CATEGORY_HARASSMENT: HarmBlockThreshold.BLOCK_LOW_AND_ABOVE,\n",
    "        HarmCategory.HARM_CATEGORY_SEXUALLY_EXPLICIT: HarmBlockThreshold.BLOCK_LOW_AND_ABOVE,\n",
    "        HarmCategory.HARM_CATEGORY_DANGEROUS_CONTENT: HarmBlockThreshold.BLOCK_LOW_AND_ABOVE,\n",
    "    },\n",
    ")\n",
    "# Chain\n",
    "rag_chain = template | llm | StrOutputParser()\n"
   ]
  },
  {
   "cell_type": "code",
   "execution_count": null,
   "metadata": {
    "id": "IE01K1LNuj11"
   },
   "outputs": [],
   "source": [
    "from langchain_core.documents import Document\n",
    "from typing_extensions import List, TypedDict\n",
    "\n",
    "\n",
    "class State(TypedDict):\n",
    "    question: str\n",
    "    context: List[Document]\n",
    "    answer: str"
   ]
  },
  {
   "cell_type": "code",
   "execution_count": null,
   "metadata": {
    "id": "yB8JQj9Fuj76"
   },
   "outputs": [],
   "source": [
    "def retrieve(state: State):\n",
    "    retrieved_docs = vectorstorer.similarity_search(state[\"question\"], k=10)\n",
    "    return {\"context\": retrieved_docs}\n",
    "\n",
    "\n",
    "def generate(state: State):\n",
    "    docs_content = \"\\n\\n\".join(doc.page_content for doc in state[\"context\"])\n",
    "    messages = template.invoke({\"question\": state[\"question\"], \"context\": docs_content})\n",
    "    response = llm.invoke(messages)\n",
    "    return {\"answer\": response.content}"
   ]
  },
  {
   "cell_type": "code",
   "execution_count": null,
   "metadata": {
    "id": "_pNXimdMS7Fb"
   },
   "outputs": [],
   "source": [
    "from langgraph.checkpoint.memory import MemorySaver\n",
    "\n",
    "memory = MemorySaver()\n"
   ]
  },
  {
   "cell_type": "code",
   "execution_count": null,
   "metadata": {
    "id": "cUiogkNXukBK"
   },
   "outputs": [],
   "source": [
    "from langgraph.graph import START, StateGraph\n",
    "\n",
    "graph_builder = StateGraph(State).add_sequence([retrieve, generate])\n",
    "graph_builder.add_edge(START, \"retrieve\")\n",
    "graph = graph_builder.compile(checkpointer=memory)"
   ]
  },
  {
   "cell_type": "code",
   "execution_count": null,
   "metadata": {
    "colab": {
     "base_uri": "https://localhost:8080/",
     "height": 350
    },
    "id": "GsvnMfNCukGe",
    "outputId": "a20ca4ca-d15a-40c1-b95c-a7635497df20"
   },
   "outputs": [],
   "source": [
    "from IPython.display import Image, display\n",
    "\n",
    "display(Image(graph.get_graph().draw_mermaid_png()))"
   ]
  },
  {
   "cell_type": "code",
   "execution_count": null,
   "metadata": {
    "colab": {
     "base_uri": "https://localhost:8080/"
    },
    "id": "6OyXPOHfFqoi",
    "outputId": "4254d7ee-0fe2-48f9-acc6-cf837d0a12a7"
   },
   "outputs": [],
   "source": [
    "# Specify an ID for the thread\n",
    "config = {\"configurable\": {\"thread_id\": \"abc125\"}}\n",
    "input_message = \"ভারতের পশ্চিম অঞ্চলকে কী বলে?\"\n",
    "\n",
    "final_answer = None\n",
    "for step in graph.stream(\n",
    "    {\"question\": input_message},\n",
    "    stream_mode=\"values\",\n",
    "    config=config,\n",
    "):\n",
    "    if \"answer\" in step:\n",
    "        final_answer = step[\"answer\"]\n",
    "\n",
    "print(final_answer)"
   ]
  },
  {
   "cell_type": "markdown",
   "metadata": {
    "id": "dCeQ-1sulPxG"
   },
   "source": []
  }
 ],
 "metadata": {
  "colab": {
   "provenance": []
  },
  "kernelspec": {
   "display_name": "Python 3",
   "name": "python3"
  },
  "language_info": {
   "name": "python"
  }
 },
 "nbformat": 4,
 "nbformat_minor": 0
}
